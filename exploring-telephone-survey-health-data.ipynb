{
 "cells": [
  {
   "cell_type": "code",
   "execution_count": 72,
   "metadata": {},
   "outputs": [],
   "source": [
    "library(ggplot2)\n",
    "library(dplyr)\n",
    "library(reshape2)"
   ]
  },
  {
   "cell_type": "markdown",
   "metadata": {},
   "source": [
    "## Part 1: Data\n",
    "\n",
    "These questions were investigated using the [BRFSS dataset](https://www.cdc.gov/brfss/about/index.htm).\n",
    "> The Behavioral Risk Factor Surveillance System (BRFSS) is the nation's premier system of health-related telephone surveys that collect state data about U.S. residents regarding their health-related risk behaviors, chronic health conditions, and use of preventive services. Established in 1984 with 15 states, BRFSS now collects data in all 50 states as well as the District of Columbia and three U.S. territories. BRFSS completes more than 400,000 adult interviews each year, making it the largest continuously conducted health survey system in the world.\n",
    "\n",
    "## Generalizability\n",
    "\n",
    "The CDC reports that the \"[*survey is conducted using Random Digit Dialing (RDD) techniques on both landlines and cell phones*](https://www.cdc.gov/brfss/about/brfss_faq.htm)\". Since a random sampling method used, results may be generalized to the U.S. population.\n",
    "\n",
    "Note that there may be response bias as people who respond to telephone surveys may have different characteristics (*e.g.* people who respond to telephone surveys may be less likely to be employed full-time).\n",
    "\n",
    "## Causality\n",
    "\n",
    "We cannot determine causality in our analysis because random assignment was not used."
   ]
  },
  {
   "cell_type": "code",
   "execution_count": 73,
   "metadata": {},
   "outputs": [],
   "source": [
    "load(\"brfss2013.RData\")"
   ]
  },
  {
   "cell_type": "markdown",
   "metadata": {},
   "source": [
    "## Part 2: Research questions\n",
    "\n",
    "**Research Question 1:**\n",
    "Do men or women have on average more than one drink per day?\n",
    "\n",
    "**Research Question 2:**\n",
    "Of veterans, is there a relationship between the number of bad mental health days and bad physical health days?\n",
    "\n",
    "**Research Question 3:**\n",
    "Are there differences in the number of hours of sleep by gender or age?"
   ]
  },
  {
   "cell_type": "markdown",
   "metadata": {},
   "source": [
    "## Part 3: Exploratory data analysis"
   ]
  },
  {
   "cell_type": "markdown",
   "metadata": {},
   "source": [
    "### Research Question 1 - Do men or women have on average more than one drink per day?"
   ]
  },
  {
   "cell_type": "code",
   "execution_count": 74,
   "metadata": {},
   "outputs": [
    {
     "data": {
      "text/html": [
       "<ol class=list-inline>\n",
       "\t<li>'avedrnk2'</li>\n",
       "\t<li>'drnk3ge5'</li>\n",
       "\t<li>'maxdrnks'</li>\n",
       "\t<li>'drnkany5'</li>\n",
       "\t<li>'X_drnkdy4'</li>\n",
       "\t<li>'X_drnkmo4'</li>\n",
       "</ol>\n"
      ],
      "text/latex": [
       "\\begin{enumerate*}\n",
       "\\item 'avedrnk2'\n",
       "\\item 'drnk3ge5'\n",
       "\\item 'maxdrnks'\n",
       "\\item 'drnkany5'\n",
       "\\item 'X\\_drnkdy4'\n",
       "\\item 'X\\_drnkmo4'\n",
       "\\end{enumerate*}\n"
      ],
      "text/markdown": [
       "1. 'avedrnk2'\n",
       "2. 'drnk3ge5'\n",
       "3. 'maxdrnks'\n",
       "4. 'drnkany5'\n",
       "5. 'X_drnkdy4'\n",
       "6. 'X_drnkmo4'\n",
       "\n",
       "\n"
      ],
      "text/plain": [
       "[1] \"avedrnk2\"  \"drnk3ge5\"  \"maxdrnks\"  \"drnkany5\"  \"X_drnkdy4\" \"X_drnkmo4\""
      ]
     },
     "metadata": {},
     "output_type": "display_data"
    }
   ],
   "source": [
    "# As an initial step, let's identify all of the variables that contain information related to alcohol use.\n",
    "grep(\"drnk\", names(brfss2013), value = TRUE)"
   ]
  },
  {
   "cell_type": "markdown",
   "metadata": {},
   "source": [
    "We found that the variables listed below are related to alcohol use. These variables come from an \"optional\" section of the survey, so there are many observations with missing values. Additionally, survey respondents may underreport their alcohol usage. All of these variables are measures of alcohol use in the last 30 days.\n",
    "* `avedrnk2` - Average alcoholic drinks per day\n",
    "* `drnk3ge5` - Number of binge drinking occasions (men: 5+ drinks, women: 4+ drinks).\n",
    "* `maxdrnks` - Most drinks on a single occasion.\n",
    "* `drnkany5` - Drink any alcoholic beverages.\n",
    "Calculated variables:\n",
    "* `X_drnkdy4` - Total number of alcoholic beverages consumed per day\n",
    "* `X_drnkmo4` - Total number of alcoholic beverages consumed per month\n",
    "\n",
    "The calculated variable X_drnkdy4 looks interesting. We can create a new variable (named X_drnkdy_1plus) to segment the population into adults who have on average one or more drink a day vs. adults who have less than one drink a day.\n",
    "Further, we can filter out observations where gender or alcohol consumption was not reported."
   ]
  },
  {
   "cell_type": "code",
   "execution_count": 75,
   "metadata": {},
   "outputs": [],
   "source": [
    "brfss2013 <- brfss2013 %>% mutate (One_or_More_Drink_Per_Day = ifelse(X_drnkdy4 >= 1, \"Yes\", \"No\"))\n",
    "gender_alcohol <- brfss2013 %>% filter(sex != \"NA\", One_or_More_Drink_Per_Day != \"NA\")"
   ]
  },
  {
   "cell_type": "markdown",
   "metadata": {},
   "source": [
    "Let's check the distribution of the population."
   ]
  },
  {
   "cell_type": "code",
   "execution_count": 76,
   "metadata": {},
   "outputs": [
    {
     "data": {
      "text/html": [
       "<table>\n",
       "<thead><tr><th scope=col>One_or_More_Drink_Per_Day</th><th scope=col>count</th></tr></thead>\n",
       "<tbody>\n",
       "\t<tr><td>No    </td><td>236712</td></tr>\n",
       "\t<tr><td>Yes   </td><td>231181</td></tr>\n",
       "</tbody>\n",
       "</table>\n"
      ],
      "text/latex": [
       "\\begin{tabular}{r|ll}\n",
       " One\\_or\\_More\\_Drink\\_Per\\_Day & count\\\\\n",
       "\\hline\n",
       "\t No     & 236712\\\\\n",
       "\t Yes    & 231181\\\\\n",
       "\\end{tabular}\n"
      ],
      "text/markdown": [
       "\n",
       "One_or_More_Drink_Per_Day | count | \n",
       "|---|---|\n",
       "| No     | 236712 | \n",
       "| Yes    | 231181 | \n",
       "\n",
       "\n"
      ],
      "text/plain": [
       "  One_or_More_Drink_Per_Day count \n",
       "1 No                        236712\n",
       "2 Yes                       231181"
      ]
     },
     "metadata": {},
     "output_type": "display_data"
    }
   ],
   "source": [
    "gender_alcohol %>% group_by(One_or_More_Drink_Per_Day) %>% summarise(count=n())"
   ]
  },
  {
   "cell_type": "markdown",
   "metadata": {},
   "source": [
    "It looks like about half the population has on average 1 or more drink per day while the other half has on average less than 1 drink per day."
   ]
  },
  {
   "cell_type": "code",
   "execution_count": 77,
   "metadata": {},
   "outputs": [
    {
     "data": {},
     "metadata": {},
     "output_type": "display_data"
    },
    {
     "data": {
      "image/png": "[encoded data removed]",
      "text/plain": [
       "plot without title"
      ]
     },
     "metadata": {},
     "output_type": "display_data"
    }
   ],
   "source": [
    "ggplot(data = gender_alcohol, aes(x = sex, fill = One_or_More_Drink_Per_Day)) +\n",
    "        geom_bar() +\n",
    "        ggtitle(\"Number of Males & Females segmented by Daily Alcohol Consumption\") +\n",
    "        scale_y_continuous(name=\"# of Respondents\", labels = scales::comma) +\n",
    "        scale_x_discrete(name=\"Gender\")"
   ]
  },
  {
   "cell_type": "markdown",
   "metadata": {},
   "source": [
    "It looks like the majority of men have more than 1 drink per day on average, whereas less than half of females have more than 1 drink per day on average."
   ]
  },
  {
   "cell_type": "code",
   "execution_count": 78,
   "metadata": {},
   "outputs": [
    {
     "data": {
      "text/html": [
       "<table>\n",
       "<thead><tr><th scope=col>sex</th><th scope=col>One_or_More_Drink_Per_Day</th><th scope=col>count</th><th scope=col>percent_of_total</th></tr></thead>\n",
       "<tbody>\n",
       "\t<tr><td>Male     </td><td>No       </td><td> 80224   </td><td>0.1714580</td></tr>\n",
       "\t<tr><td>Male     </td><td>Yes      </td><td>110199   </td><td>0.2355218</td></tr>\n",
       "\t<tr><td>Female   </td><td>No       </td><td>156488   </td><td>0.3344525</td></tr>\n",
       "\t<tr><td>Female   </td><td>Yes      </td><td>120982   </td><td>0.2585677</td></tr>\n",
       "</tbody>\n",
       "</table>\n"
      ],
      "text/latex": [
       "\\begin{tabular}{r|llll}\n",
       " sex & One\\_or\\_More\\_Drink\\_Per\\_Day & count & percent\\_of\\_total\\\\\n",
       "\\hline\n",
       "\t Male      & No        &  80224    & 0.1714580\\\\\n",
       "\t Male      & Yes       & 110199    & 0.2355218\\\\\n",
       "\t Female    & No        & 156488    & 0.3344525\\\\\n",
       "\t Female    & Yes       & 120982    & 0.2585677\\\\\n",
       "\\end{tabular}\n"
      ],
      "text/markdown": [
       "\n",
       "sex | One_or_More_Drink_Per_Day | count | percent_of_total | \n",
       "|---|---|---|---|\n",
       "| Male      | No        |  80224    | 0.1714580 | \n",
       "| Male      | Yes       | 110199    | 0.2355218 | \n",
       "| Female    | No        | 156488    | 0.3344525 | \n",
       "| Female    | Yes       | 120982    | 0.2585677 | \n",
       "\n",
       "\n"
      ],
      "text/plain": [
       "  sex    One_or_More_Drink_Per_Day count  percent_of_total\n",
       "1 Male   No                         80224 0.1714580       \n",
       "2 Male   Yes                       110199 0.2355218       \n",
       "3 Female No                        156488 0.3344525       \n",
       "4 Female Yes                       120982 0.2585677       "
      ]
     },
     "metadata": {},
     "output_type": "display_data"
    }
   ],
   "source": [
    "gender_alcohol %>% group_by(sex, One_or_More_Drink_Per_Day) %>% summarise(count=n(), percent_of_total = n()/nrow(gender_alcohol))"
   ]
  },
  {
   "cell_type": "markdown",
   "metadata": {},
   "source": [
    "Note that the percentages shown in the summary statistics above are out of the total respondents (men and women) and not each gender specifically. The differences in alcohol consumption may be due to both the frequency of ocassions where alcohol is consumed, as well as the quantity of alcohol consumed during each individual ocassion."
   ]
  },
  {
   "cell_type": "markdown",
   "metadata": {},
   "source": [
    "### Research Question 2 - Of veterans, is there a relationship between the number of bad mental health days and bad physical health days?"
   ]
  },
  {
   "cell_type": "markdown",
   "metadata": {},
   "source": [
    "First, we need to filter for respondents who are veterans."
   ]
  },
  {
   "cell_type": "code",
   "execution_count": 79,
   "metadata": {},
   "outputs": [],
   "source": [
    "veterans <- brfss2013 %>% filter(veteran3 == \"Yes\")"
   ]
  },
  {
   "cell_type": "markdown",
   "metadata": {},
   "source": [
    "There were 491,775 in our original dataset, of which 61,446 were veterans. Next, we check for extreme values by grouping by menthlth value."
   ]
  },
  {
   "cell_type": "code",
   "execution_count": 80,
   "metadata": {},
   "outputs": [
    {
     "data": {
      "text/html": [
       "<table>\n",
       "<thead><tr><th scope=col>menthlth</th><th scope=col>count</th><th scope=col>physhlth</th><th scope=col>count</th></tr></thead>\n",
       "<tbody>\n",
       "\t<tr><td>   0 </td><td>46931</td><td> 0   </td><td>38385</td></tr>\n",
       "\t<tr><td>   1 </td><td> 1221</td><td> 1   </td><td> 1990</td></tr>\n",
       "\t<tr><td>   2 </td><td> 1861</td><td> 2   </td><td> 2896</td></tr>\n",
       "\t<tr><td>   3 </td><td> 1083</td><td> 3   </td><td> 1775</td></tr>\n",
       "\t<tr><td>   4 </td><td>  545</td><td> 4   </td><td>  998</td></tr>\n",
       "\t<tr><td>   5 </td><td> 1323</td><td> 5   </td><td> 1639</td></tr>\n",
       "\t<tr><td>   6 </td><td>  197</td><td> 6   </td><td>  327</td></tr>\n",
       "\t<tr><td>   7 </td><td>  466</td><td> 7   </td><td>  937</td></tr>\n",
       "\t<tr><td>   8 </td><td>  105</td><td> 8   </td><td>  167</td></tr>\n",
       "\t<tr><td>   9 </td><td>   22</td><td> 9   </td><td>   42</td></tr>\n",
       "\t<tr><td>  10 </td><td> 1097</td><td>10   </td><td> 1390</td></tr>\n",
       "\t<tr><td>  11 </td><td>    9</td><td>11   </td><td>   12</td></tr>\n",
       "\t<tr><td>  12 </td><td>   69</td><td>12   </td><td>  120</td></tr>\n",
       "\t<tr><td>  13 </td><td>   10</td><td>13   </td><td>   18</td></tr>\n",
       "\t<tr><td>  14 </td><td>  175</td><td>14   </td><td>  523</td></tr>\n",
       "\t<tr><td>  15 </td><td> 1097</td><td>15   </td><td> 1293</td></tr>\n",
       "\t<tr><td>  16 </td><td>   13</td><td>16   </td><td>   27</td></tr>\n",
       "\t<tr><td>  17 </td><td>    8</td><td>17   </td><td>   16</td></tr>\n",
       "\t<tr><td>  18 </td><td>   28</td><td>18   </td><td>   33</td></tr>\n",
       "\t<tr><td>  19 </td><td>    2</td><td>19   </td><td>    7</td></tr>\n",
       "\t<tr><td>  20 </td><td>  608</td><td>20   </td><td>  714</td></tr>\n",
       "\t<tr><td>  21 </td><td>   44</td><td>21   </td><td>  140</td></tr>\n",
       "\t<tr><td>  22 </td><td>   11</td><td>22   </td><td>   12</td></tr>\n",
       "\t<tr><td>  23 </td><td>    4</td><td>23   </td><td>   13</td></tr>\n",
       "\t<tr><td>  24 </td><td>    6</td><td>24   </td><td>   12</td></tr>\n",
       "\t<tr><td>  25 </td><td>  224</td><td>25   </td><td>  309</td></tr>\n",
       "\t<tr><td>  26 </td><td>   11</td><td>26   </td><td>   21</td></tr>\n",
       "\t<tr><td>  27 </td><td>   18</td><td>27   </td><td>   29</td></tr>\n",
       "\t<tr><td>  28 </td><td>   66</td><td>28   </td><td>  122</td></tr>\n",
       "\t<tr><td>  29 </td><td>   59</td><td>29   </td><td>   69</td></tr>\n",
       "\t<tr><td>  30 </td><td> 3012</td><td>30   </td><td> 6028</td></tr>\n",
       "\t<tr><td>5000 </td><td>    1</td><td>60   </td><td>    1</td></tr>\n",
       "\t<tr><td>  NA </td><td> 1120</td><td>NA   </td><td> 1381</td></tr>\n",
       "</tbody>\n",
       "</table>\n"
      ],
      "text/latex": [
       "\\begin{tabular}{r|llll}\n",
       " menthlth & count & physhlth & count\\\\\n",
       "\\hline\n",
       "\t    0  & 46931 &  0    & 38385\\\\\n",
       "\t    1  &  1221 &  1    &  1990\\\\\n",
       "\t    2  &  1861 &  2    &  2896\\\\\n",
       "\t    3  &  1083 &  3    &  1775\\\\\n",
       "\t    4  &   545 &  4    &   998\\\\\n",
       "\t    5  &  1323 &  5    &  1639\\\\\n",
       "\t    6  &   197 &  6    &   327\\\\\n",
       "\t    7  &   466 &  7    &   937\\\\\n",
       "\t    8  &   105 &  8    &   167\\\\\n",
       "\t    9  &    22 &  9    &    42\\\\\n",
       "\t   10  &  1097 & 10    &  1390\\\\\n",
       "\t   11  &     9 & 11    &    12\\\\\n",
       "\t   12  &    69 & 12    &   120\\\\\n",
       "\t   13  &    10 & 13    &    18\\\\\n",
       "\t   14  &   175 & 14    &   523\\\\\n",
       "\t   15  &  1097 & 15    &  1293\\\\\n",
       "\t   16  &    13 & 16    &    27\\\\\n",
       "\t   17  &     8 & 17    &    16\\\\\n",
       "\t   18  &    28 & 18    &    33\\\\\n",
       "\t   19  &     2 & 19    &     7\\\\\n",
       "\t   20  &   608 & 20    &   714\\\\\n",
       "\t   21  &    44 & 21    &   140\\\\\n",
       "\t   22  &    11 & 22    &    12\\\\\n",
       "\t   23  &     4 & 23    &    13\\\\\n",
       "\t   24  &     6 & 24    &    12\\\\\n",
       "\t   25  &   224 & 25    &   309\\\\\n",
       "\t   26  &    11 & 26    &    21\\\\\n",
       "\t   27  &    18 & 27    &    29\\\\\n",
       "\t   28  &    66 & 28    &   122\\\\\n",
       "\t   29  &    59 & 29    &    69\\\\\n",
       "\t   30  &  3012 & 30    &  6028\\\\\n",
       "\t 5000  &     1 & 60    &     1\\\\\n",
       "\t   NA  &  1120 & NA    &  1381\\\\\n",
       "\\end{tabular}\n"
      ],
      "text/markdown": [
       "\n",
       "menthlth | count | physhlth | count | \n",
       "|---|---|---|---|---|---|---|---|---|---|---|---|---|---|---|---|---|---|---|---|---|---|---|---|---|---|---|---|---|---|---|---|---|\n",
       "|    0  | 46931 |  0    | 38385 | \n",
       "|    1  |  1221 |  1    |  1990 | \n",
       "|    2  |  1861 |  2    |  2896 | \n",
       "|    3  |  1083 |  3    |  1775 | \n",
       "|    4  |   545 |  4    |   998 | \n",
       "|    5  |  1323 |  5    |  1639 | \n",
       "|    6  |   197 |  6    |   327 | \n",
       "|    7  |   466 |  7    |   937 | \n",
       "|    8  |   105 |  8    |   167 | \n",
       "|    9  |    22 |  9    |    42 | \n",
       "|   10  |  1097 | 10    |  1390 | \n",
       "|   11  |     9 | 11    |    12 | \n",
       "|   12  |    69 | 12    |   120 | \n",
       "|   13  |    10 | 13    |    18 | \n",
       "|   14  |   175 | 14    |   523 | \n",
       "|   15  |  1097 | 15    |  1293 | \n",
       "|   16  |    13 | 16    |    27 | \n",
       "|   17  |     8 | 17    |    16 | \n",
       "|   18  |    28 | 18    |    33 | \n",
       "|   19  |     2 | 19    |     7 | \n",
       "|   20  |   608 | 20    |   714 | \n",
       "|   21  |    44 | 21    |   140 | \n",
       "|   22  |    11 | 22    |    12 | \n",
       "|   23  |     4 | 23    |    13 | \n",
       "|   24  |     6 | 24    |    12 | \n",
       "|   25  |   224 | 25    |   309 | \n",
       "|   26  |    11 | 26    |    21 | \n",
       "|   27  |    18 | 27    |    29 | \n",
       "|   28  |    66 | 28    |   122 | \n",
       "|   29  |    59 | 29    |    69 | \n",
       "|   30  |  3012 | 30    |  6028 | \n",
       "| 5000  |     1 | 60    |     1 | \n",
       "|   NA  |  1120 | NA    |  1381 | \n",
       "\n",
       "\n"
      ],
      "text/plain": [
       "   menthlth count physhlth count\n",
       "1     0     46931  0       38385\n",
       "2     1      1221  1        1990\n",
       "3     2      1861  2        2896\n",
       "4     3      1083  3        1775\n",
       "5     4       545  4         998\n",
       "6     5      1323  5        1639\n",
       "7     6       197  6         327\n",
       "8     7       466  7         937\n",
       "9     8       105  8         167\n",
       "10    9        22  9          42\n",
       "11   10      1097 10        1390\n",
       "12   11         9 11          12\n",
       "13   12        69 12         120\n",
       "14   13        10 13          18\n",
       "15   14       175 14         523\n",
       "16   15      1097 15        1293\n",
       "17   16        13 16          27\n",
       "18   17         8 17          16\n",
       "19   18        28 18          33\n",
       "20   19         2 19           7\n",
       "21   20       608 20         714\n",
       "22   21        44 21         140\n",
       "23   22        11 22          12\n",
       "24   23         4 23          13\n",
       "25   24         6 24          12\n",
       "26   25       224 25         309\n",
       "27   26        11 26          21\n",
       "28   27        18 27          29\n",
       "29   28        66 28         122\n",
       "30   29        59 29          69\n",
       "31   30      3012 30        6028\n",
       "32 5000         1 60           1\n",
       "33   NA      1120 NA        1381"
      ]
     },
     "metadata": {},
     "output_type": "display_data"
    }
   ],
   "source": [
    "cbind(veterans %>% group_by(menthlth) %>% summarise(count=n()), veterans %>% group_by(physhlth) %>% summarise(count=n()))"
   ]
  },
  {
   "cell_type": "markdown",
   "metadata": {},
   "source": [
    "We see that there is one observation for menthlth that has a value of 5000 and one observation for physhlth that has a value of 60. The codebook defines these fields as \"how many days during the past 30 days...\" therefore, values greater than 30 are not reasonable so we will exclude these observations as well as any NA values."
   ]
  },
  {
   "cell_type": "code",
   "execution_count": 81,
   "metadata": {
    "scrolled": true
   },
   "outputs": [],
   "source": [
    "veterans <- veterans %>% filter(menthlth <= 30, physhlth <=30)"
   ]
  },
  {
   "cell_type": "markdown",
   "metadata": {},
   "source": [
    "Now that we have excluded the unreasonable extreme values and NA values, we can plot the data to see if there is a relationship. Because there are still a large number of observations, we can filter for only the mental/physical health relationships that have a large number of observations."
   ]
  },
  {
   "cell_type": "code",
   "execution_count": 82,
   "metadata": {},
   "outputs": [],
   "source": [
    "veterans_phys_ment <- veterans %>% group_by(physhlth, menthlth) %>% summarise(count=n())"
   ]
  },
  {
   "cell_type": "markdown",
   "metadata": {},
   "source": [
    "Because we are working with discrete variables rather than continuous variables, it can be difficult to observe trends in a scatter plot. For visibility, we'll filter only for mental/physical health ratings that had at least 50 observations."
   ]
  },
  {
   "cell_type": "code",
   "execution_count": 83,
   "metadata": {},
   "outputs": [
    {
     "data": {},
     "metadata": {},
     "output_type": "display_data"
    },
    {
     "data": {
      "image/png": "[encoded data removed]",
      "text/plain": [
       "plot without title"
      ]
     },
     "metadata": {},
     "output_type": "display_data"
    }
   ],
   "source": [
    "ggplot(data = veterans_phys_ment %>% filter(count > 50), aes(x = physhlth, y = menthlth, size = count)) +\n",
    "    geom_point() +\n",
    "    ggtitle(\"Relationship between \\nMental & Physical Health of Veterans\") +\n",
    "    theme(plot.title = element_text(hjust = 0.5)) +\n",
    "    xlab(\"# Days \\n Physical Health Not Good\") +\n",
    "    ylab(\"# Days \\n Mental Health Not Good\")"
   ]
  },
  {
   "cell_type": "markdown",
   "metadata": {},
   "source": [
    "It looks like there is a weak positive correlation between the number of days that mental health and physical health were reported as not good. Most of the observations are located on the edges, meaning that there were many veterans who reported 0 days of bad mental and/or physical health or all 30 days of bad mental and/or physical health."
   ]
  },
  {
   "cell_type": "code",
   "execution_count": 84,
   "metadata": {},
   "outputs": [
    {
     "data": {
      "text/html": [
       "<table>\n",
       "<thead><tr><th scope=col>mean_mental_notgood_days</th><th scope=col>mean_physical_notgood_days</th></tr></thead>\n",
       "<tbody>\n",
       "\t<tr><td>2.780571</td><td>4.802489</td></tr>\n",
       "</tbody>\n",
       "</table>\n"
      ],
      "text/latex": [
       "\\begin{tabular}{r|ll}\n",
       " mean\\_mental\\_notgood\\_days & mean\\_physical\\_notgood\\_days\\\\\n",
       "\\hline\n",
       "\t 2.780571 & 4.802489\\\\\n",
       "\\end{tabular}\n"
      ],
      "text/markdown": [
       "\n",
       "mean_mental_notgood_days | mean_physical_notgood_days | \n",
       "|---|\n",
       "| 2.780571 | 4.802489 | \n",
       "\n",
       "\n"
      ],
      "text/plain": [
       "  mean_mental_notgood_days mean_physical_notgood_days\n",
       "1 2.780571                 4.802489                  "
      ]
     },
     "metadata": {},
     "output_type": "display_data"
    }
   ],
   "source": [
    "veterans %>% summarise (mean_mental_notgood_days = mean(menthlth), mean_physical_notgood_days = mean(physhlth))"
   ]
  },
  {
   "cell_type": "markdown",
   "metadata": {},
   "source": [
    "Based on the summary statistics, it looks like veterans report more days of not good physical health compared to mental health."
   ]
  },
  {
   "cell_type": "markdown",
   "metadata": {},
   "source": [
    "### Research Question 3: Are there differences in the number of hours of sleep by gender or age?"
   ]
  },
  {
   "cell_type": "markdown",
   "metadata": {},
   "source": [
    "The survey was collected for adults (*i.e. people who were 18 years or older*), so we can filter out the five observations that had ages of 0-3. Additionally, ages above 80 were \"collapsed\" into a single group. We will exclude those as well since we don't have their exact ages. Lastly, we'll find the average hours slept for each age."
   ]
  },
  {
   "cell_type": "code",
   "execution_count": 85,
   "metadata": {},
   "outputs": [],
   "source": [
    "age_gender_sleep <- brfss2013 %>% filter(X_age80 <= 80, X_age80 >= 18, sex != 'NA', sleptim1<=24)\n",
    "age_gender_avg_sleep <- age_gender_sleep %>% group_by(sex, X_age80) %>% summarise(mean_hours_slept = mean(sleptim1))\n",
    "age_gender_avg_sleep_joined <- cbind(age_gender_avg_sleep %>% filter (sex == \"Male\"), age_gender_avg_sleep %>% filter (sex == \"Female\"))"
   ]
  },
  {
   "cell_type": "markdown",
   "metadata": {},
   "source": [
    "We need to rename/remove columns, then transform the data in order to plot"
   ]
  },
  {
   "cell_type": "code",
   "execution_count": 86,
   "metadata": {},
   "outputs": [],
   "source": [
    "colnames(age_gender_avg_sleep_joined)[colnames(age_gender_avg_sleep_joined)==\"mean_hours_slept\"] <- \"male_mean_hours_slept\"\n",
    "colnames(age_gender_avg_sleep_joined)[colnames(age_gender_avg_sleep_joined)==\"mean_hours_slept1\"] <- \"female_mean_hours_slept\"\n",
    "age_gender_avg_sleep_joined <- subset(age_gender_avg_sleep_joined, select = -c(sex, sex1, X_age801))\n",
    "age_gender_avg_sleep_long <- melt(age_gender_avg_sleep_joined, id=\"X_age80\")"
   ]
  },
  {
   "cell_type": "code",
   "execution_count": 87,
   "metadata": {},
   "outputs": [
    {
     "data": {},
     "metadata": {},
     "output_type": "display_data"
    },
    {
     "data": {
      "image/png": "[encoded data removed]",
      "text/plain": [
       "plot without title"
      ]
     },
     "metadata": {},
     "output_type": "display_data"
    }
   ],
   "source": [
    "ggplot(data = age_gender_avg_sleep_long, aes(x=X_age80, y=value, color=variable)) +\n",
    "    geom_line() +\n",
    "    scale_colour_manual(values=c(\"blue\", \"red\")) +\n",
    "    ggtitle(\"Hours of Sleep by Age and Gender\") +\n",
    "    theme(plot.title = element_text(hjust = 0.5)) +\n",
    "    xlab(\"Age (Years)\") +\n",
    "    ylab(\"Average # Hours of Sleep\")"
   ]
  },
  {
   "cell_type": "markdown",
   "metadata": {},
   "source": [
    "Overall it looks respondents between the ages of 30-55 get the least amount of sleep, but respondents that are over age 55 get more sleep. It also looks like women in most age groups sleep more on average than men in the same age groups."
   ]
  },
  {
   "cell_type": "code",
   "execution_count": 88,
   "metadata": {},
   "outputs": [
    {
     "data": {
      "text/html": [
       "<table>\n",
       "<thead><tr><th scope=col>mean(male_mean_hours_slept)</th><th scope=col>median(male_mean_hours_slept)</th><th scope=col>mean(female_mean_hours_slept)</th><th scope=col>median(female_mean_hours_slept)</th></tr></thead>\n",
       "<tbody>\n",
       "\t<tr><td>7.003687</td><td>6.886948</td><td>7.038573</td><td>7.003692</td></tr>\n",
       "</tbody>\n",
       "</table>\n"
      ],
      "text/latex": [
       "\\begin{tabular}{r|llll}\n",
       " mean(male\\_mean\\_hours\\_slept) & median(male\\_mean\\_hours\\_slept) & mean(female\\_mean\\_hours\\_slept) & median(female\\_mean\\_hours\\_slept)\\\\\n",
       "\\hline\n",
       "\t 7.003687 & 6.886948 & 7.038573 & 7.003692\\\\\n",
       "\\end{tabular}\n"
      ],
      "text/markdown": [
       "\n",
       "mean(male_mean_hours_slept) | median(male_mean_hours_slept) | mean(female_mean_hours_slept) | median(female_mean_hours_slept) | \n",
       "|---|\n",
       "| 7.003687 | 6.886948 | 7.038573 | 7.003692 | \n",
       "\n",
       "\n"
      ],
      "text/plain": [
       "  mean(male_mean_hours_slept) median(male_mean_hours_slept)\n",
       "1 7.003687                    6.886948                     \n",
       "  mean(female_mean_hours_slept) median(female_mean_hours_slept)\n",
       "1 7.038573                      7.003692                       "
      ]
     },
     "metadata": {},
     "output_type": "display_data"
    }
   ],
   "source": [
    "cbind(age_gender_avg_sleep_joined %>% summarise(mean(male_mean_hours_slept), median(male_mean_hours_slept)),\n",
    "age_gender_avg_sleep_joined %>% summarise(mean(female_mean_hours_slept), median(female_mean_hours_slept)))"
   ]
  },
  {
   "cell_type": "markdown",
   "metadata": {},
   "source": [
    "The summary statistics align with the graph showing that females have on average more sleep than men when aggregated across age groups."
   ]
  },
  {
   "cell_type": "markdown",
   "metadata": {},
   "source": [
    "### Conclusion\n",
    "\n",
    "These preliminary analyses show cursory exploration of several variables from the BRFSS dataset. The visualizations aided in identifying trends, however, these do not imply causality since the data was not collected through random sampling.\n",
    "\n",
    "Further areas of exploration would include analyzing trends by state and integrating data on public health spending to identify instances where health spending was low but reported health was good."
   ]
  }
 ],
 "metadata": {
  "kernelspec": {
   "display_name": "R",
   "language": "R",
   "name": "ir"
  },
  "language_info": {
   "codemirror_mode": "r",
   "file_extension": ".r",
   "mimetype": "text/x-r-source",
   "name": "R",
   "pygments_lexer": "r",
   "version": "3.5.1"
  }
 },
 "nbformat": 4,
 "nbformat_minor": 2
}
